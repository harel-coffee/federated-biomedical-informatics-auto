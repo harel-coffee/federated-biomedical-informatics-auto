{
  "nbformat": 4,
  "nbformat_minor": 0,
  "metadata": {
    "colab": {
      "name": "CmpE 492.ipynb",
      "provenance": [],
      "collapsed_sections": [
        "SpoggNyMlkOV"
      ],
      "include_colab_link": true
    },
    "kernelspec": {
      "display_name": "Python 3",
      "name": "python3"
    },
    "language_info": {
      "name": "python"
    },
    "accelerator": "GPU"
  },
  "cells": [
    {
      "cell_type": "markdown",
      "metadata": {
        "id": "view-in-github",
        "colab_type": "text"
      },
      "source": [
        "<a href=\"https://colab.research.google.com/github/ysaidcan/federated-biomedical-informatics/blob/master/CmpE_492.ipynb\" target=\"_parent\"><img src=\"https://colab.research.google.com/assets/colab-badge.svg\" alt=\"Open In Colab\"/></a>"
      ]
    },
    {
      "cell_type": "markdown",
      "metadata": {
        "id": "w-d3XsH_pRp9"
      },
      "source": [
        "### Import"
      ]
    },
    {
      "cell_type": "code",
      "metadata": {
        "colab": {
          "base_uri": "https://localhost:8080/"
        },
        "id": "rTWU8TQF-s5C",
        "outputId": "048c7a18-bf12-4713-b8e6-3600b77eabd4"
      },
      "source": [
        "from google.colab import drive\n",
        "drive.mount('/content/drive')"
      ],
      "execution_count": null,
      "outputs": [
        {
          "output_type": "stream",
          "text": [
            "Drive already mounted at /content/drive; to attempt to forcibly remount, call drive.mount(\"/content/drive\", force_remount=True).\n"
          ],
          "name": "stdout"
        }
      ]
    },
    {
      "cell_type": "code",
      "metadata": {
        "colab": {
          "base_uri": "https://localhost:8080/"
        },
        "id": "MlTAbDVeD_6O",
        "outputId": "faa78780-9604-4764-921a-91295d37e09c"
      },
      "source": [
        "import numpy\n",
        "import tensorflow as tf\n",
        "from keras.optimizers import SGD\n",
        "from keras.optimizers import RMSprop\n",
        "from keras.models import Sequential\n",
        "from keras.layers import Dense\n",
        "from keras.layers import LSTM\n",
        "from keras import backend as K\n",
        "from keras import optimizers\n",
        "\n",
        "import sklearn\n",
        "from sklearn.metrics import precision_score\n",
        "from sklearn.metrics import recall_score\n",
        "from sklearn.metrics import f1_score\n",
        "from imblearn.under_sampling import RandomUnderSampler\n",
        "\n",
        "\n",
        "from sklearn.model_selection import train_test_split, StratifiedKFold, KFold\n",
        "import pandas as pd\n",
        "from sklearn.preprocessing import LabelEncoder, StandardScaler, MinMaxScaler"
      ],
      "execution_count": null,
      "outputs": [
        {
          "output_type": "stream",
          "text": [
            "/usr/local/lib/python3.7/dist-packages/sklearn/externals/six.py:31: FutureWarning: The module is deprecated in version 0.21 and will be removed in version 0.23 since we've dropped support for Python 2.7. Please rely on the official version of six (https://pypi.org/project/six/).\n",
            "  \"(https://pypi.org/project/six/).\", FutureWarning)\n",
            "/usr/local/lib/python3.7/dist-packages/sklearn/utils/deprecation.py:144: FutureWarning: The sklearn.neighbors.base module is  deprecated in version 0.22 and will be removed in version 0.24. The corresponding classes / functions should instead be imported from sklearn.neighbors. Anything that cannot be imported from sklearn.neighbors is now part of the private API.\n",
            "  warnings.warn(message, FutureWarning)\n"
          ],
          "name": "stderr"
        }
      ]
    },
    {
      "cell_type": "markdown",
      "metadata": {
        "id": "SpoggNyMlkOV"
      },
      "source": [
        "### Prepare and Save Data (Run only once!)"
      ]
    },
    {
      "cell_type": "code",
      "metadata": {
        "id": "GDxXUEccEJiA"
      },
      "source": [
        "X = pd.read_csv('/content/drive/MyDrive/empatica_data_new/one_sec_sorted.csv')\n",
        "\n",
        "X['SessionLabel'] = LabelEncoder().fit_transform(X['SessionLabel'])\n",
        "y = X['SessionLabel']"
      ],
      "execution_count": null,
      "outputs": []
    },
    {
      "cell_type": "code",
      "metadata": {
        "id": "c2pQKn7wS0IV"
      },
      "source": [
        "# normalize\n",
        "scaler = MinMaxScaler(feature_range=(0, 1))\n",
        "sensor_columns = ['ACC_mean', 'BVP_mean', 'EDA_mean', 'TEMP_mean']\n",
        "\n",
        "for col in sensor_columns:\n",
        "    X[col] = scaler.fit_transform(numpy.asarray(X[col]).reshape(-1, 1))"
      ],
      "execution_count": null,
      "outputs": []
    },
    {
      "cell_type": "code",
      "metadata": {
        "id": "eIHYrp4ncs1G",
        "colab": {
          "base_uri": "https://localhost:8080/"
        },
        "outputId": "11800558-9110-4878-c1ff-f962e8213bd6"
      },
      "source": [
        "# create and save overlapping windows with labels\n",
        "\n",
        "X_windows = [] # n x TIME_STEPS x 4 \n",
        "y_windows = [] # n x 1\n",
        "\n",
        "for sess in set(X[\"SessionID\"]):\n",
        "    X_sess = X.loc[X['SessionID'] == sess]\n",
        "    X_sess.reset_index(inplace=True, drop=True)\n",
        "\n",
        "    print(sess)\n",
        "\n",
        "    for i in range(TIME_STEPS-1, len(X_sess)):\n",
        "        label = X_sess.iloc[i]['SessionLabel']\n",
        "        data = X_sess.iloc[i-TIME_STEPS+1: i+1][['ACC_mean', 'BVP_mean', 'EDA_mean', 'TEMP_mean']].values\n",
        "\n",
        "        y_windows.append(label)\n",
        "        X_windows.append(data)\n",
        "\n",
        "X_numpy = numpy.array(X_windows)\n",
        "y_numpy = numpy.array(y_windows)\n",
        "numpy.save('/content/drive/MyDrive/empatica_data_new/X_windows.npy', X_numpy)\n",
        "numpy.save('/content/drive/MyDrive/empatica_data_new/y_windows.npy', y_numpy)"
      ],
      "execution_count": null,
      "outputs": [
        {
          "output_type": "stream",
          "text": [
            "A0176C\n",
            "A01B22\n",
            "A0120B\n",
            "A019A8\n",
            "A01644\n",
            "A02214\n",
            "A01035\n",
            "A012A4\n",
            "A010BE\n",
            "A021AD\n",
            "A020B9\n",
            "A0133E\n",
            "A012B4\n"
          ],
          "name": "stdout"
        }
      ]
    },
    {
      "cell_type": "markdown",
      "metadata": {
        "id": "GUYzEmlelxCT"
      },
      "source": [
        "### Constants"
      ]
    },
    {
      "cell_type": "code",
      "metadata": {
        "id": "0Yn4zRyNs-Vi"
      },
      "source": [
        "BATCH_SIZE = 500\n",
        "EPOCHS = 90\n",
        "TIME_STEPS = 60"
      ],
      "execution_count": null,
      "outputs": []
    },
    {
      "cell_type": "markdown",
      "metadata": {
        "id": "NlWYahaLlqC8"
      },
      "source": [
        "### Load Data, RUS"
      ]
    },
    {
      "cell_type": "code",
      "metadata": {
        "id": "c_AVk_1aKJ3S",
        "colab": {
          "base_uri": "https://localhost:8080/"
        },
        "outputId": "35a0329b-1b68-465b-86fa-95a94260e225"
      },
      "source": [
        "X_windows = numpy.load('/content/drive/MyDrive/empatica_data_new/X_windows.npy')\n",
        "y_windows = numpy.load('/content/drive/MyDrive/empatica_data_new/y_windows.npy')\n",
        "print(X_windows.shape)\n",
        "print(y_windows.shape)"
      ],
      "execution_count": null,
      "outputs": [
        {
          "output_type": "stream",
          "text": [
            "(2171233, 60, 4)\n",
            "(2171233,)\n"
          ],
          "name": "stdout"
        }
      ]
    },
    {
      "cell_type": "code",
      "metadata": {
        "id": "g8uK5-whF_fo",
        "colab": {
          "base_uri": "https://localhost:8080/"
        },
        "outputId": "999b82aa-72eb-4156-f003-a8b922db8df1"
      },
      "source": [
        "print(X_windows.shape, y_windows.shape)\n",
        "\n",
        "dim2 = X_windows.shape[1]\n",
        "dim3 = X_windows.shape[2]\n",
        "\n",
        "rus = RandomUnderSampler(random_state=13)\n",
        "\n",
        "X_windows, y_windows = rus.fit_resample(X_windows.reshape(X_windows.shape[0], dim2 * dim3), y_windows)\n",
        "X_windows = X_windows.reshape(X_windows.shape[0], dim2, dim3)\n",
        "\n",
        "print(X_windows.shape, y_windows.shape)"
      ],
      "execution_count": null,
      "outputs": [
        {
          "output_type": "stream",
          "text": [
            "(2171233, 60, 4) (2171233,)\n"
          ],
          "name": "stdout"
        },
        {
          "output_type": "stream",
          "text": [
            "/usr/local/lib/python3.7/dist-packages/sklearn/utils/deprecation.py:87: FutureWarning: Function safe_indexing is deprecated; safe_indexing is deprecated in version 0.22 and will be removed in version 0.24.\n",
            "  warnings.warn(msg, category=FutureWarning)\n"
          ],
          "name": "stderr"
        },
        {
          "output_type": "stream",
          "text": [
            "(1078446, 60, 4) (1078446,)\n"
          ],
          "name": "stdout"
        }
      ]
    },
    {
      "cell_type": "markdown",
      "metadata": {
        "id": "R34B_RGbltLE"
      },
      "source": [
        "### Run Model"
      ]
    },
    {
      "cell_type": "code",
      "metadata": {
        "id": "SUbibpKUD8nI",
        "colab": {
          "base_uri": "https://localhost:8080/"
        },
        "outputId": "ab2a6751-60fc-40e3-80a1-4e4ff04ea966"
      },
      "source": [
        "kfold = KFold(n_splits=5, shuffle=False)\n",
        "\n",
        "lstm_model = None\n",
        "k = 0\n",
        "\n",
        "for train, test in kfold.split(X_windows, y_windows):\n",
        "    k += 1\n",
        "    if k != 5:\n",
        "        continue\n",
        "    print('FOLD', k)\n",
        "\n",
        "    X_train = X_windows[train]\n",
        "    y_train = y_windows[train]\n",
        "\n",
        "    X_test = X_windows[test]\n",
        "    y_test = y_windows[test]\n",
        "\n",
        "    X_train, y_train = sklearn.utils.shuffle(X_train, y_train)\n",
        "    X_test, y_test = sklearn.utils.shuffle(X_test, y_test)\n",
        "\n",
        "    print(\"X_train and y_train size:\", len(X_train), len(y_train))\n",
        "    print(\"X_test and y_test size:\", len(X_test), len(y_test))\n",
        "\n",
        "    print(X_train.shape, y_train.shape)\n",
        "    print(X_test.shape, y_test.shape)\n",
        "\n",
        "    train_class_weight = {0: sum(y_train)/len(y_train), \n",
        "                          1: 1-sum(y_train)/len(y_train)}\n",
        "\n",
        "    print('Train weights:', train_class_weight)\n",
        "    print('1s in test', sum(y_test)/len(y_test))\n",
        "\n",
        "\n",
        "    lstm_model = Sequential()\n",
        "    lstm_model.add(LSTM(200, input_shape=X_train.shape[1:], dropout=0, recurrent_dropout=0.0, stateful=False, return_sequences=True, kernel_initializer='random_uniform'))\n",
        "    lstm_model.add(LSTM(200, input_shape=X_train.shape[1:], dropout=0, recurrent_dropout=0.0, stateful=False, return_sequences=False, kernel_initializer='random_uniform'))\n",
        "    lstm_model.add(Dense(200,activation='relu'))\n",
        "    lstm_model.add(Dense(200,activation='relu'))\n",
        "    lstm_model.add(Dense(1,activation='sigmoid'))\n",
        "\n",
        "    opt = optimizers.Adam(learning_rate=0.001)\n",
        "    \n",
        "    lstm_model.compile(loss='binary_crossentropy', optimizer=opt, metrics=['accuracy'])\n",
        "\n",
        "    history = lstm_model.fit(X_train, y_train, \n",
        "                             epochs=EPOCHS, \n",
        "                             verbose=1,\n",
        "                             batch_size=BATCH_SIZE,\n",
        "                             validation_data=(X_test, y_test),\n",
        "                             class_weight=train_class_weight)"
      ],
      "execution_count": null,
      "outputs": [
        {
          "output_type": "stream",
          "text": [
            "FOLD 5\n",
            "X_train and y_train size: 862757 862757\n",
            "X_test and y_test size: 215689 215689\n",
            "(862757, 60, 4) (862757,)\n",
            "(215689, 60, 4) (215689,)\n",
            "Train weights: {0: 0.3750001448843649, 1: 0.624999855115635}\n",
            "1s in test 1.0\n",
            "WARNING:tensorflow:From /usr/local/lib/python3.7/dist-packages/tensorflow/python/ops/array_ops.py:5049: calling gather (from tensorflow.python.ops.array_ops) with validate_indices is deprecated and will be removed in a future version.\n",
            "Instructions for updating:\n",
            "The `validate_indices` argument has no effect. Indices are always validated on CPU and never validated on GPU.\n",
            "Epoch 1/90\n",
            "1726/1726 [==============================] - 110s 51ms/step - loss: 0.3222 - accuracy: 0.5472 - val_loss: 0.7492 - val_accuracy: 0.4197\n",
            "Epoch 2/90\n",
            "1726/1726 [==============================] - 87s 51ms/step - loss: 0.3200 - accuracy: 0.5215 - val_loss: 0.7648 - val_accuracy: 0.3647\n",
            "Epoch 3/90\n",
            "1726/1726 [==============================] - 88s 51ms/step - loss: 0.3198 - accuracy: 0.5212 - val_loss: 0.8691 - val_accuracy: 0.4439\n",
            "Epoch 4/90\n",
            "1726/1726 [==============================] - 88s 51ms/step - loss: 0.3144 - accuracy: 0.5594 - val_loss: 0.9734 - val_accuracy: 0.3865\n",
            "Epoch 5/90\n",
            "1726/1726 [==============================] - 88s 51ms/step - loss: 0.3074 - accuracy: 0.5799 - val_loss: 0.8610 - val_accuracy: 0.4247\n",
            "Epoch 6/90\n",
            "1726/1726 [==============================] - 88s 51ms/step - loss: 0.3004 - accuracy: 0.6050 - val_loss: 1.0786 - val_accuracy: 0.3228\n",
            "Epoch 7/90\n",
            "1726/1726 [==============================] - 88s 51ms/step - loss: 0.2927 - accuracy: 0.6272 - val_loss: 1.1485 - val_accuracy: 0.3452\n",
            "Epoch 8/90\n",
            "1726/1726 [==============================] - 88s 51ms/step - loss: 0.2869 - accuracy: 0.6399 - val_loss: 1.0636 - val_accuracy: 0.3367\n",
            "Epoch 9/90\n",
            "1726/1726 [==============================] - 87s 51ms/step - loss: 0.3101 - accuracy: 0.5750 - val_loss: 0.6939 - val_accuracy: 0.5722\n",
            "Epoch 10/90\n",
            "1726/1726 [==============================] - 88s 51ms/step - loss: 0.3193 - accuracy: 0.5373 - val_loss: 0.8996 - val_accuracy: 0.4242\n",
            "Epoch 11/90\n",
            "1726/1726 [==============================] - 88s 51ms/step - loss: 0.3133 - accuracy: 0.5614 - val_loss: 0.7497 - val_accuracy: 0.6131\n",
            "Epoch 12/90\n",
            "1726/1726 [==============================] - 88s 51ms/step - loss: 0.3095 - accuracy: 0.5704 - val_loss: 0.9087 - val_accuracy: 0.3925\n",
            "Epoch 13/90\n",
            "1726/1726 [==============================] - 88s 51ms/step - loss: 0.3039 - accuracy: 0.5869 - val_loss: 1.0650 - val_accuracy: 0.3930\n",
            "Epoch 14/90\n",
            "1726/1726 [==============================] - 88s 51ms/step - loss: 0.3062 - accuracy: 0.5891 - val_loss: 1.0054 - val_accuracy: 0.3038\n",
            "Epoch 15/90\n",
            "1726/1726 [==============================] - 88s 51ms/step - loss: 0.3028 - accuracy: 0.5916 - val_loss: 1.0197 - val_accuracy: 0.4572\n",
            "Epoch 16/90\n",
            "1726/1726 [==============================] - 88s 51ms/step - loss: 0.2929 - accuracy: 0.6224 - val_loss: 1.1520 - val_accuracy: 0.3609\n",
            "Epoch 17/90\n",
            "1726/1726 [==============================] - 88s 51ms/step - loss: 0.2870 - accuracy: 0.6354 - val_loss: 1.0798 - val_accuracy: 0.3758\n",
            "Epoch 18/90\n",
            "1726/1726 [==============================] - 88s 51ms/step - loss: 0.2803 - accuracy: 0.6497 - val_loss: 1.2953 - val_accuracy: 0.3837\n",
            "Epoch 19/90\n",
            "1726/1726 [==============================] - 88s 51ms/step - loss: 0.2760 - accuracy: 0.6571 - val_loss: 1.4226 - val_accuracy: 0.3748\n",
            "Epoch 20/90\n",
            "1726/1726 [==============================] - 88s 51ms/step - loss: 0.2708 - accuracy: 0.6648 - val_loss: 1.4666 - val_accuracy: 0.3531\n",
            "Epoch 21/90\n",
            "1726/1726 [==============================] - 91s 53ms/step - loss: 0.2671 - accuracy: 0.6709 - val_loss: 1.3956 - val_accuracy: 0.3707\n",
            "Epoch 22/90\n",
            "1726/1726 [==============================] - 88s 51ms/step - loss: 0.2661 - accuracy: 0.6742 - val_loss: 1.6054 - val_accuracy: 0.3316\n",
            "Epoch 23/90\n",
            "1726/1726 [==============================] - 88s 51ms/step - loss: 0.2608 - accuracy: 0.6836 - val_loss: 1.7670 - val_accuracy: 0.3369\n",
            "Epoch 24/90\n",
            "1726/1726 [==============================] - 88s 51ms/step - loss: 0.2536 - accuracy: 0.6960 - val_loss: 1.9556 - val_accuracy: 0.3337\n",
            "Epoch 25/90\n",
            "1726/1726 [==============================] - 88s 51ms/step - loss: 0.2483 - accuracy: 0.7054 - val_loss: 2.3075 - val_accuracy: 0.3088\n",
            "Epoch 26/90\n",
            "1726/1726 [==============================] - 88s 51ms/step - loss: 0.2446 - accuracy: 0.7107 - val_loss: 2.2156 - val_accuracy: 0.3012\n",
            "Epoch 27/90\n",
            "1726/1726 [==============================] - 88s 51ms/step - loss: 0.2388 - accuracy: 0.7201 - val_loss: 2.4396 - val_accuracy: 0.3185\n",
            "Epoch 28/90\n",
            "1726/1726 [==============================] - 88s 51ms/step - loss: 0.2360 - accuracy: 0.7254 - val_loss: 2.5621 - val_accuracy: 0.3025\n",
            "Epoch 29/90\n",
            "1726/1726 [==============================] - 88s 51ms/step - loss: 0.2303 - accuracy: 0.7341 - val_loss: 2.4637 - val_accuracy: 0.3265\n",
            "Epoch 30/90\n",
            "1726/1726 [==============================] - 88s 51ms/step - loss: 0.2265 - accuracy: 0.7395 - val_loss: 2.9647 - val_accuracy: 0.2883\n",
            "Epoch 31/90\n",
            "1726/1726 [==============================] - 88s 51ms/step - loss: 0.2206 - accuracy: 0.7495 - val_loss: 3.2722 - val_accuracy: 0.2582\n",
            "Epoch 32/90\n",
            "1726/1726 [==============================] - 88s 51ms/step - loss: 0.2192 - accuracy: 0.7511 - val_loss: 3.1367 - val_accuracy: 0.2946\n",
            "Epoch 33/90\n",
            "1726/1726 [==============================] - 88s 51ms/step - loss: 0.2123 - accuracy: 0.7609 - val_loss: 3.2194 - val_accuracy: 0.3088\n",
            "Epoch 34/90\n",
            "1726/1726 [==============================] - 88s 51ms/step - loss: 0.2064 - accuracy: 0.7688 - val_loss: 2.7170 - val_accuracy: 0.3206\n",
            "Epoch 35/90\n",
            "1726/1726 [==============================] - 88s 51ms/step - loss: 0.2022 - accuracy: 0.7756 - val_loss: 3.2403 - val_accuracy: 0.2786\n",
            "Epoch 36/90\n",
            "1726/1726 [==============================] - 88s 51ms/step - loss: 0.1981 - accuracy: 0.7817 - val_loss: 3.6701 - val_accuracy: 0.2748\n",
            "Epoch 37/90\n",
            "1726/1726 [==============================] - 88s 51ms/step - loss: 0.1936 - accuracy: 0.7878 - val_loss: 3.6885 - val_accuracy: 0.2959\n",
            "Epoch 38/90\n",
            "1726/1726 [==============================] - 88s 51ms/step - loss: 0.1917 - accuracy: 0.7897 - val_loss: 3.7336 - val_accuracy: 0.2858\n",
            "Epoch 39/90\n",
            "1726/1726 [==============================] - 88s 51ms/step - loss: 0.1851 - accuracy: 0.7995 - val_loss: 3.8184 - val_accuracy: 0.2786\n",
            "Epoch 40/90\n",
            "1726/1726 [==============================] - 88s 51ms/step - loss: 0.1818 - accuracy: 0.8038 - val_loss: 4.2347 - val_accuracy: 0.2595\n",
            "Epoch 41/90\n",
            "1726/1726 [==============================] - 88s 51ms/step - loss: 0.1776 - accuracy: 0.8088 - val_loss: 4.7388 - val_accuracy: 0.2482\n",
            "Epoch 42/90\n",
            "1726/1726 [==============================] - 88s 51ms/step - loss: 0.1739 - accuracy: 0.8145 - val_loss: 4.3548 - val_accuracy: 0.2711\n",
            "Epoch 43/90\n",
            "1479/1726 [========================>.....] - ETA: 11s - loss: 0.1714 - accuracy: 0.8179"
          ],
          "name": "stdout"
        }
      ]
    }
  ]
}