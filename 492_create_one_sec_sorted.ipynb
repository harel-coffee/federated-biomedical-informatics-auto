{
  "nbformat": 4,
  "nbformat_minor": 0,
  "metadata": {
    "colab": {
      "name": "492 create one_sec_sorted.ipynb",
      "provenance": [],
      "collapsed_sections": [],
      "include_colab_link": true
    },
    "kernelspec": {
      "display_name": "Python 3",
      "name": "python3"
    }
  },
  "cells": [
    {
      "cell_type": "markdown",
      "metadata": {
        "id": "view-in-github",
        "colab_type": "text"
      },
      "source": [
        "<a href=\"https://colab.research.google.com/github/ysaidcan/federated-biomedical-informatics/blob/master/492_create_one_sec_sorted.ipynb\" target=\"_parent\"><img src=\"https://colab.research.google.com/assets/colab-badge.svg\" alt=\"Open In Colab\"/></a>"
      ]
    },
    {
      "cell_type": "code",
      "metadata": {
        "id": "eUQpW2Ob9x4n"
      },
      "source": [
        "import pandas\n",
        "from sklearn.preprocessing import Normalizer\n",
        "import numpy as np\n",
        "import os\n",
        "import math\n",
        "from sklearn.preprocessing import Normalizer\n",
        "from sklearn.preprocessing import normalize as sk_normalize\n",
        "from pickle import dump\n",
        "from pickle import load\n",
        "import random\n",
        "from sklearn.utils import shuffle"
      ],
      "execution_count": null,
      "outputs": []
    },
    {
      "cell_type": "code",
      "metadata": {
        "colab": {
          "base_uri": "https://localhost:8080/"
        },
        "id": "7e2HW_DS6d-U",
        "outputId": "eafbdee3-a1d0-4ed1-d997-76fc4577f0f5"
      },
      "source": [
        "from google.colab import drive\n",
        "drive.mount('/content/drive')"
      ],
      "execution_count": null,
      "outputs": [
        {
          "output_type": "stream",
          "text": [
            "Mounted at /content/drive\n"
          ],
          "name": "stdout"
        }
      ]
    },
    {
      "cell_type": "code",
      "metadata": {
        "id": "XPrXBArEFwGN"
      },
      "source": [
        "FOLDER_PATH = '/content/drive/MyDrive/empatica'\n",
        "LABEL_FILE_PATH = '/content/drive/MyDrive/empatica/PSS - 6 (Scores) 10.06.19.csv'\n",
        "EMPATICA_DATA_FOLDER = '/content/drive/MyDrive/empatica_data_new/'\n",
        "\n",
        "WINDOW_SEC = 600 # Sec\n",
        "SAMPLING_RATE = 1 # Hz\n",
        "WINDOW_LENGTH = int(WINDOW_SEC * SAMPLING_RATE)\n",
        "SKIP_SEC = int(WINDOW_SEC)\n",
        "\n",
        "LABEL_NAMES = {2: 'Perceived score (L-H)', 3: 'Perceived Score (L-M-H)'}\n",
        "\n",
        "SENSORS_TO_USE = ['ACC', 'BVP', 'EDA', 'TEMP']\n",
        "SENSOR_HERTZ = {'ACC': 32, 'BVP': 64, 'EDA': 4, 'TEMP': 4}\n",
        "\n",
        "# Size of X => n x len(WINDOW_LENGTH) x len(SENSORS_TO_USE)\n",
        "# Size of y => n"
      ],
      "execution_count": null,
      "outputs": []
    },
    {
      "cell_type": "code",
      "metadata": {
        "id": "COf4wH9tHtmn"
      },
      "source": [
        "# Verilen window ve kisi IDsine gore \"PSS - 6 (Scores) 10.06.19.csv\" dosyasndan stress label'ini buluyor\n",
        "df_scores = pandas.read_csv(LABEL_FILE_PATH)\n",
        "def two_label_map(label:str) -> int:\n",
        "    if label == 'L':\n",
        "        return 0\n",
        "    elif label == 'H':\n",
        "        return 1\n",
        "\n",
        "    print('LABEL ERROR: ' + str(label))\n",
        "    return -1\n",
        "\n",
        "def three_label_map(label:str) -> int:\n",
        "    if label == 'L':\n",
        "        return 0\n",
        "    elif label == 'M':\n",
        "        return 0\n",
        "    elif label == 'H':\n",
        "        return 1\n",
        "\n",
        "    print('LABEL ERROR: ' + str(label))\n",
        "    return -1\n",
        "\n",
        "def convert_label(label:str) -> int:\n",
        "    if LABEL_COUNT == 2:\n",
        "        return two_label_map(label)\n",
        "    return three_label_map(label)\n",
        "\n",
        "def get_labels(id:int, utc_start:int) -> int:\n",
        "\n",
        "    if id == 102:\n",
        "      return (1,1)\n",
        "    if id == 101 or id == 103:\n",
        "      df_scores1 = pandas.read_csv('/content/drive/MyDrive/empatica_new/Labels.csv')\n",
        "      utc_end = utc_start + WINDOW_SEC\n",
        "    \n",
        "      temp_df = df_scores1[df_scores1['Participant ID'] == id]\n",
        "      temp_df = temp_df[temp_df['UTC_Start'] <= utc_start]\n",
        "      temp_df = temp_df[temp_df['UTC_End'] >= utc_end]\n",
        "\n",
        "      if len(temp_df) > 0:\n",
        "          two_label = two_label_map(temp_df.iloc[0][LABEL_NAMES[2]])\n",
        "          three_label = three_label_map(temp_df.iloc[0][LABEL_NAMES[3]])\n",
        "          return (two_label, three_label)\n",
        "\n",
        "\n",
        "    utc_end = utc_start + WINDOW_SEC\n",
        "    \n",
        "    temp_df = df_scores[df_scores['Participant ID'] == id]\n",
        "    temp_df = temp_df[temp_df['UTC_Start'] <= utc_start]\n",
        "    temp_df = temp_df[temp_df['UTC_End'] >= utc_end]\n",
        "\n",
        "    if len(temp_df) > 0:\n",
        "        two_label = two_label_map(temp_df.iloc[0][LABEL_NAMES[2]])\n",
        "        three_label = three_label_map(temp_df.iloc[0][LABEL_NAMES[3]])\n",
        "        return (two_label, three_label)\n",
        "    return None"
      ],
      "execution_count": null,
      "outputs": []
    },
    {
      "cell_type": "code",
      "metadata": {
        "id": "d6vOzjGhiorQ"
      },
      "source": [
        "def intersection(lst1, lst2): \n",
        "    return list(set(lst1) & set(lst2)) \n",
        "\n",
        "def list_to_single(values):\n",
        "    return values[0]\n",
        "\n",
        "def pythagoras(values):\n",
        "    return math.sqrt(values[0]**2 + values[1]**2 + values[2]**2)\n",
        "\n",
        "# Sensor'un SENSOR_HERTZ'ini average alarak SAMPLING_RATE'e indiriyor\n",
        "def sample_sensor_data(sensor:str, data:list) -> list:\n",
        "    # len(data) = SENSOR_HERTZ[sensor] * WINDOW_SEC\n",
        "    sampling_ratio = int(SENSOR_HERTZ[sensor] / SAMPLING_RATE)\n",
        "    \n",
        "    res_list = []\n",
        "\n",
        "    for i in range(int(len(data) / sampling_ratio)):\n",
        "        batch = data[i * sampling_ratio : (i + 1) * sampling_ratio]\n",
        "        res_list.append(sum(batch) / len(batch))\n",
        "\n",
        "    return res_list"
      ],
      "execution_count": null,
      "outputs": []
    },
    {
      "cell_type": "code",
      "metadata": {
        "id": "_icJ-M_qNx_z"
      },
      "source": [
        "# Klasorlerde loop don, label'i var ise X'e kaydet\n",
        "\n",
        "def create() -> pandas.DataFrame:\n",
        "    df = pandas.DataFrame(columns=['EmpaticaID', 'SessionID', 'SessionLabel', 'SessionLabel2'] + [k + '_mean' for k in SENSORS_TO_USE])\n",
        "    \n",
        "    id_list = sorted(os.listdir(FOLDER_PATH))\n",
        "    id_list2 = sorted(os.listdir('/content/drive/MyDrive/empatica_new'))\n",
        "    id_list = id_list + id_list2\n",
        "    for id in id_list:\n",
        "        print(id)\n",
        "  \n",
        "        id_path = FOLDER_PATH + '/' + id\n",
        "        if not os.path.isdir(id_path):\n",
        "            continue\n",
        "        session_list = sorted(os.listdir(id_path))\n",
        "        for sess in session_list:\n",
        "\n",
        "            sess_path = id_path + '/' + sess\n",
        "            if not os.path.isdir(sess_path):\n",
        "                continue\n",
        "            # print(sess_path)\n",
        "            sess_has_all_sensors = len(intersection(os.listdir(sess_path), [x + '.csv' for x in SENSORS_TO_USE])) == len(SENSORS_TO_USE)\n",
        "            if not sess_has_all_sensors:\n",
        "                continue\n",
        "\n",
        "            df_sensors = {}\n",
        "            # Find window count\n",
        "            window_count = 0\n",
        "            for sensor in SENSORS_TO_USE:\n",
        "                df_sensors[sensor] = pandas.read_csv(sess_path + '/' + sensor +'.csv')\n",
        "\n",
        "                sensor_windows_length = WINDOW_SEC * SENSOR_HERTZ[sensor]\n",
        "                sensor_skip_length = SKIP_SEC * SENSOR_HERTZ[sensor]\n",
        "                sensor_max_window_count = math.ceil((len(df_sensors[sensor]) - sensor_windows_length) / sensor_skip_length)\n",
        "\n",
        "                if window_count == 0:\n",
        "                    window_count = sensor_max_window_count\n",
        "                else:\n",
        "                    window_count = min(window_count, sensor_max_window_count)\n",
        "            # print(sess.split('_')[1],  str(window_count))\n",
        "            window_utc_start = int(sess[:10])\n",
        "            for i in range(window_count):\n",
        "\n",
        "                labels = get_labels(id=int(id), utc_start=window_utc_start)\n",
        "                window_utc_start += SKIP_SEC\n",
        "                \n",
        "                if labels == None:\n",
        "                    continue         \n",
        "                \n",
        "                # Bu window icin sensor data'larini oku, X'e ekle\n",
        "                window_dict = {'EmpaticaID': [id for _ in range(WINDOW_SEC)], 'SessionID': [sess.split('_')[1] for _ in range(WINDOW_SEC)], 'SessionLabel': [labels[0] for _ in range(WINDOW_SEC)], 'SessionLabel2': [labels[1] for _ in range(WINDOW_SEC)]}\n",
        "                for sensor in df_sensors:\n",
        "                    df_sensor = df_sensors[sensor]\n",
        "                    \n",
        "                    sensor_windows_length = WINDOW_SEC * SENSOR_HERTZ[sensor]\n",
        "                    sensor_skip_length = SKIP_SEC * SENSOR_HERTZ[sensor]\n",
        "                    sensor_window_data_list = df_sensor[i * sensor_skip_length : i * sensor_skip_length + sensor_windows_length].values.tolist()\n",
        "                    \n",
        "                    if sensor == 'ACC': # sum of squares of X, Y and Z square-rooted\n",
        "                        sensor_window_data_list = list(map(pythagoras, sensor_window_data_list))\n",
        "                    else:\n",
        "                        sensor_window_data_list = list(map(list_to_single, sensor_window_data_list))\n",
        "\n",
        "                    sensor_window_data_list = sample_sensor_data(sensor=sensor, data=sensor_window_data_list)\n",
        "                    \n",
        "                    window_dict[sensor + '_mean'] = sensor_window_data_list\n",
        "                \n",
        "                df = df.append(other=pandas.DataFrame.from_dict(window_dict))\n",
        "\n",
        "    return df"
      ],
      "execution_count": null,
      "outputs": []
    },
    {
      "cell_type": "code",
      "metadata": {
        "colab": {
          "base_uri": "https://localhost:8080/",
          "height": 544
        },
        "id": "C2YkXWbM20qX",
        "outputId": "31deda72-d0b5-4617-d085-a48fc97a2215"
      },
      "source": [
        "df = create()\n",
        "df.head()"
      ],
      "execution_count": null,
      "outputs": [
        {
          "output_type": "stream",
          "text": [
            "1\n",
            "10\n",
            "11\n",
            "12\n",
            "13\n",
            "14\n",
            "15\n",
            "3\n",
            "4\n",
            "5\n",
            "6\n",
            "7\n",
            "8\n",
            "9\n",
            "PSS - 6 (Scores) 10.06.19.csv\n",
            "PSS - 6 (Scores) 10.06.19.gsheet\n",
            "101\n",
            "102\n",
            "103\n",
            "Labels.csv\n"
          ],
          "name": "stdout"
        },
        {
          "output_type": "execute_result",
          "data": {
            "text/html": [
              "<div>\n",
              "<style scoped>\n",
              "    .dataframe tbody tr th:only-of-type {\n",
              "        vertical-align: middle;\n",
              "    }\n",
              "\n",
              "    .dataframe tbody tr th {\n",
              "        vertical-align: top;\n",
              "    }\n",
              "\n",
              "    .dataframe thead th {\n",
              "        text-align: right;\n",
              "    }\n",
              "</style>\n",
              "<table border=\"1\" class=\"dataframe\">\n",
              "  <thead>\n",
              "    <tr style=\"text-align: right;\">\n",
              "      <th></th>\n",
              "      <th>EmpaticaID</th>\n",
              "      <th>SessionID</th>\n",
              "      <th>SessionLabel</th>\n",
              "      <th>SessionLabel2</th>\n",
              "      <th>ACC_mean</th>\n",
              "      <th>BVP_mean</th>\n",
              "      <th>EDA_mean</th>\n",
              "      <th>TEMP_mean</th>\n",
              "    </tr>\n",
              "  </thead>\n",
              "  <tbody>\n",
              "    <tr>\n",
              "      <th>0</th>\n",
              "      <td>1</td>\n",
              "      <td>A012B4</td>\n",
              "      <td>0</td>\n",
              "      <td>0</td>\n",
              "      <td>63.887988</td>\n",
              "      <td>-4.135781</td>\n",
              "      <td>0.525486</td>\n",
              "      <td>32.750</td>\n",
              "    </tr>\n",
              "    <tr>\n",
              "      <th>1</th>\n",
              "      <td>1</td>\n",
              "      <td>A012B4</td>\n",
              "      <td>0</td>\n",
              "      <td>0</td>\n",
              "      <td>63.928384</td>\n",
              "      <td>4.445938</td>\n",
              "      <td>0.485454</td>\n",
              "      <td>32.765</td>\n",
              "    </tr>\n",
              "    <tr>\n",
              "      <th>2</th>\n",
              "      <td>1</td>\n",
              "      <td>A012B4</td>\n",
              "      <td>0</td>\n",
              "      <td>0</td>\n",
              "      <td>63.883930</td>\n",
              "      <td>3.243750</td>\n",
              "      <td>0.524845</td>\n",
              "      <td>32.770</td>\n",
              "    </tr>\n",
              "    <tr>\n",
              "      <th>3</th>\n",
              "      <td>1</td>\n",
              "      <td>A012B4</td>\n",
              "      <td>0</td>\n",
              "      <td>0</td>\n",
              "      <td>63.760831</td>\n",
              "      <td>-2.938281</td>\n",
              "      <td>0.524525</td>\n",
              "      <td>32.785</td>\n",
              "    </tr>\n",
              "    <tr>\n",
              "      <th>4</th>\n",
              "      <td>1</td>\n",
              "      <td>A012B4</td>\n",
              "      <td>0</td>\n",
              "      <td>0</td>\n",
              "      <td>63.568750</td>\n",
              "      <td>-4.781094</td>\n",
              "      <td>0.520682</td>\n",
              "      <td>32.790</td>\n",
              "    </tr>\n",
              "  </tbody>\n",
              "</table>\n",
              "</div>"
            ],
            "text/plain": [
              "  EmpaticaID SessionID SessionLabel  ...  BVP_mean  EDA_mean  TEMP_mean\n",
              "0          1    A012B4            0  ... -4.135781  0.525486     32.750\n",
              "1          1    A012B4            0  ...  4.445938  0.485454     32.765\n",
              "2          1    A012B4            0  ...  3.243750  0.524845     32.770\n",
              "3          1    A012B4            0  ... -2.938281  0.524525     32.785\n",
              "4          1    A012B4            0  ... -4.781094  0.520682     32.790\n",
              "\n",
              "[5 rows x 8 columns]"
            ]
          },
          "metadata": {
            "tags": []
          },
          "execution_count": 50
        }
      ]
    },
    {
      "cell_type": "code",
      "metadata": {
        "id": "ZXojKiZl29jI"
      },
      "source": [
        "df.to_csv(EMPATICA_DATA_FOLDER + 'one_sec_sorted.csv')"
      ],
      "execution_count": null,
      "outputs": []
    },
    {
      "cell_type": "code",
      "metadata": {
        "id": "HPs7_kZ-5EOj"
      },
      "source": [
        ""
      ],
      "execution_count": null,
      "outputs": []
    }
  ]
}